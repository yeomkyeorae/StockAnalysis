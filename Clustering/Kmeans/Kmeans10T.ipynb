{
 "cells": [
  {
   "cell_type": "code",
   "execution_count": 1,
   "metadata": {},
   "outputs": [],
   "source": [
    "import numpy as np"
   ]
  },
  {
   "cell_type": "code",
   "execution_count": 2,
   "metadata": {},
   "outputs": [],
   "source": [
    "import graphistry\n",
    "graphistry.register(key='41479f56bb0ca2940643188ab9a739e3200c0c016c1cccd69894c2c20519cc1d')"
   ]
  },
  {
   "cell_type": "code",
   "execution_count": 3,
   "metadata": {},
   "outputs": [],
   "source": [
    "from numpy import isnan"
   ]
  },
  {
   "cell_type": "code",
   "execution_count": 4,
   "metadata": {},
   "outputs": [],
   "source": [
    "from datetime import datetime\n",
    "from datetime import time, date"
   ]
  },
  {
   "cell_type": "code",
   "execution_count": 5,
   "metadata": {},
   "outputs": [],
   "source": [
    "import matplotlib.pyplot as plt"
   ]
  },
  {
   "cell_type": "code",
   "execution_count": 6,
   "metadata": {},
   "outputs": [],
   "source": [
    "import pandas as pd\n",
    "from pandas import DataFrame, Series"
   ]
  },
  {
   "cell_type": "code",
   "execution_count": 7,
   "metadata": {},
   "outputs": [],
   "source": [
    "import itertools"
   ]
  },
  {
   "cell_type": "code",
   "execution_count": 8,
   "metadata": {},
   "outputs": [],
   "source": [
    "import os"
   ]
  },
  {
   "cell_type": "code",
   "execution_count": 9,
   "metadata": {},
   "outputs": [],
   "source": [
    "from scipy.ndimage.interpolation import shift"
   ]
  },
  {
   "cell_type": "code",
   "execution_count": 10,
   "metadata": {},
   "outputs": [],
   "source": [
    "from datetime import datetime"
   ]
  },
  {
   "cell_type": "code",
   "execution_count": 11,
   "metadata": {},
   "outputs": [],
   "source": [
    "from sklearn import cluster, covariance, manifold"
   ]
  },
  {
   "cell_type": "code",
   "execution_count": 12,
   "metadata": {},
   "outputs": [],
   "source": [
    "from sklearn.cluster import KMeans"
   ]
  },
  {
   "cell_type": "code",
   "execution_count": 13,
   "metadata": {},
   "outputs": [],
   "source": [
    "import plotly as py\n",
    "import plotly.graph_objs as go"
   ]
  },
  {
   "cell_type": "code",
   "execution_count": 14,
   "metadata": {},
   "outputs": [],
   "source": [
    "Kospi200_codes = { #정지된 두 종목은 제외, 총 198종목\n",
    "    '5930':'삼성전자',\n",
    "    '660':'SK하이닉스',\n",
    "    '5380':'현대차',\n",
    "    '15760':'한국전력',\n",
    "    '35420':'NAVER',\n",
    "    '28260':'삼성물산',\n",
    "    '5490':'POSCO',\n",
    "    '55550':'신한지주',\n",
    "    '32830':'삼성생명',\n",
    "    '12330':'현대모비스',\n",
    "    '105560':'KB금융',\n",
    "    '51910':'LG화학',\n",
    "    '17670':'SK텔레콤',\n",
    "    '90430':'아모레퍼시픽',\n",
    "    '34730':'SK',\n",
    "    '96770':'SK이노베이션',\n",
    "    '51900':'LG생활건강',\n",
    "    '270':'기아차',\n",
    "    '33780':'KT&G',\n",
    "    '810':'삼성화재',\n",
    "    '11170':'롯데케미칼',\n",
    "    '86790':'하나금융지주',\n",
    "    '3550':'LG',\n",
    "    '66570':'LG전자',\n",
    "    '2790':'아모레G',\n",
    "    '10950':'S-Oil',\n",
    "    '18260':'삼성에스디에스',\n",
    "    '34220':'LG디스플레이',\n",
    "    '30':'우리은행',\n",
    "    '6400':'삼성SDI',\n",
    "    '30200':'KT',\n",
    "    '36570':'엔씨소프트',\n",
    "    '23530':'롯데쇼핑',\n",
    "    '21240':'코웨이',\n",
    "    '10130':'고려아연',\n",
    "    '35250':'강원랜드',\n",
    "    '4020':'현대제철',\n",
    "    '161390':'한국타이어',\n",
    "    '24110':'기업은행',\n",
    "    '139480':'이마트',\n",
    "    '6800':'미래에셋대우',\n",
    "    '47810':'한국항공우주',\n",
    "    '32640':'LG유플러스',\n",
    "    '9150':'삼성전기',\n",
    "    '86280':'현대글로비스',\n",
    "    '1040':'CJ',\n",
    "    '78930':'GS',\n",
    "    '88350':'한화생명',\n",
    "    '27410':'BGF리테일',\n",
    "    '720':'현대건설',\n",
    "    '9240':'한샘',\n",
    "    '4800':'효성',\n",
    "    '5830':'동부화재',\n",
    "    '29780':'삼성카드',\n",
    "    '18880':'한온시스템',\n",
    "    '97950':'CJ제일제당',\n",
    "    '10140':'삼성중공업',\n",
    "    '36460':'한국가스공사',\n",
    "    '1800':'오리온',\n",
    "    '9830':'한화케미칼',\n",
    "    '7070':'GS리테일',\n",
    "    '5940':'NH투자증권',\n",
    "    '120':'CJ대한통운',\n",
    "    '8930':'한미사이언스',\n",
    "    '12750':'에스원',\n",
    "    '2380':'KCC',\n",
    "    '128940':'한미약품',\n",
    "    '12630':'현대산업',\n",
    "    '1450':'현대해상',\n",
    "    '16360':'삼성증권',\n",
    "    '138930':'BNK금융지주',\n",
    "    '3490':'대한항공',\n",
    "    '47040':'대우건설',\n",
    "    '11070':'LG이노텍',\n",
    "    '880':'한화',\n",
    "    '47050':'포스코대우',\n",
    "    '4990':'롯데제과',\n",
    "    '71050':'한국금융지주',\n",
    "    '210':'대림산업',\n",
    "    '100':'유한양행',\n",
    "    '12450':'한화테크윈',\n",
    "    '51600':'한전KPS',\n",
    "    '69960':'현대백화점',\n",
    "    '7310':'오뚜기',\n",
    "    '34020':'두산중공업',\n",
    "    '11780':'금호석유',\n",
    "    '28050':'삼성엔지니어링',\n",
    "    '6260':'LS',\n",
    "    '8770':'호텔신라',\n",
    "    '8560':'메리츠종금증권',\n",
    "    '204320':'만도',\n",
    "    '5300':'롯데칠성',\n",
    "    '30000':'제일기획',\n",
    "    '4170':'신세계',\n",
    "    '1740':'SK네트웍스',\n",
    "    '150':'두산',\n",
    "    '42670':'두산인프라코어',\n",
    "    '4370':'농심',\n",
    "    '6280':'녹십자',\n",
    "    '10060':'OCI',\n",
    "    '240':'한국타이어월드와이드',\n",
    "    '10620':'현대미포조선',\n",
    "    '64350':'현대로템',\n",
    "    '5610':'SPC삼립',\n",
    "    '161890':'한국콜마',\n",
    "    '11210':'현대위아',\n",
    "    '120110':'코오롱인더',\n",
    "    '670':'영풍',\n",
    "    '17800':'현대엘리베이',\n",
    "    '3520':'영진약품',\n",
    "    '5440':'현대그린푸드',\n",
    "    '6650':'대한유화',\n",
    "    '10120':'LS산전',\n",
    "    '6120':'SK케미칼',\n",
    "    '111770':'영원무역',\n",
    "    '192820':'코스맥스',\n",
    "    '57050':'현대홈쇼핑',\n",
    "    '80':'하이트진로',\n",
    "    '10780':'아이에스동서',\n",
    "    '114090':'GKL',\n",
    "    '14820':'동원시스템즈',\n",
    "    '2350':'넥센타이어',\n",
    "    '192400':'쿠쿠전자',\n",
    "    '1120':'LG상사',\n",
    "    '73240':'금호타이어',\n",
    "    '3410':'쌍용양회',\n",
    "    '103140':'풍산',\n",
    "    '185750':'종근당',\n",
    "    '70':'삼양홀딩스',\n",
    "    '11790':'SKC',\n",
    "    '105630':'한세실업',\n",
    "    '1230':'동국제강',\n",
    "    '69620':'대웅제약',\n",
    "    '3620':'쌍용차',\n",
    "    '49770':'동원F&B',\n",
    "    '2620':'제일약품',\n",
    "    '4000':'롯데정밀화학',\n",
    "    '1430':'세아베스틸',\n",
    "    '3240':'태광산업',\n",
    "    '145990':'삼양사',\n",
    "    '990':'동부하이텍',\n",
    "    '69260':'휴켐스',\n",
    "    '3000':'부광약품',\n",
    "    '14680':'한솔케미칼',\n",
    "    '108670':'LG하우시스',\n",
    "    '52690':'한전기술',\n",
    "    '3300':'한일시멘트',\n",
    "    '2270':'롯데푸드',\n",
    "    '640':'동아쏘시오홀딩스',\n",
    "    '1680':'대상',\n",
    "    '1060':'JW중외제약',\n",
    "    '170900':'동아에스티',\n",
    "    '115390':'락앤락',\n",
    "    '20000':'한섬',\n",
    "    '25540':'한국단자',\n",
    "    '93050':'LF',\n",
    "    '7570':'일양약품',\n",
    "    '19680':'대교',\n",
    "    '93370':'후성',\n",
    "    '20150':'일진머티리얼즈',\n",
    "    '2240':'고려제강',\n",
    "    '5180':'빙그레',\n",
    "    '33920':'무학',\n",
    "    '9420':'한올바이오파마',\n",
    "    '64960':'S&T모티브',\n",
    "    '60980':'한라홀딩스',\n",
    "    '3920':'남양유업',\n",
    "    '3030':'세아제강',\n",
    "    '5850':'에스엘',\n",
    "    '7340':'동아타이어',\n",
    "    '29530':'신도리코',\n",
    "    '2960':'한국쉘석유',\n",
    "    '4490':'세방전지',\n",
    "    '1520':'동양',\n",
    "    '78520':'에이블씨엔씨',\n",
    "    '25860':'남해화학',\n",
    "    '79430':'현대리바트',\n",
    "    '36580':'팜스코',\n",
    "    '8060':'대덕전자',\n",
    "    '34120':'SBS',\n",
    "    '9290':'광동제약',\n",
    "    '3850':'보령제약',\n",
    "    '8490':'서흥',\n",
    "    '14830':'유니드',\n",
    "    '50':'경방',\n",
    "    '97230':'한진중공업',\n",
    "    '104700':'한국철강',\n",
    "    '4710':'한솔테크닉스',\n",
    "    '1780':'알루코',\n",
    "    '5740':'크라운해태홀딩스',\n",
    "    '3570':'S&T중공업',\n",
    "    '5090':'삼광글라스',\n",
    "    '7690':'국도화학',\n",
    "    '3200':'일신방직',\n",
    "    '7210':'벽산',\n",
    "    '140':'하이트진로홀딩스',\n",
    "    '4700':'조광피혁',\n",
    "    '230':'일동홀딩스',\n",
    "}"
   ]
  },
  {
   "cell_type": "code",
   "execution_count": 15,
   "metadata": {},
   "outputs": [],
   "source": [
    "Kospi200Code, names = np.array(list(Kospi200_codes.items())).T"
   ]
  },
  {
   "cell_type": "markdown",
   "metadata": {},
   "source": [
    "# Data load"
   ]
  },
  {
   "cell_type": "code",
   "execution_count": 16,
   "metadata": {},
   "outputs": [],
   "source": [
    "total = pd.read_csv('../../Stock_data/Kospi200_tick/resampled/total_data10T.csv', sep=' ')"
   ]
  },
  {
   "cell_type": "code",
   "execution_count": 17,
   "metadata": {},
   "outputs": [],
   "source": [
    "#more beautiful \n",
    "total['code'] = total['code'].astype(int)\n",
    "total['volume'] = total['volume'].astype(int)\n",
    "total['now'] = total['now'].astype(float)"
   ]
  },
  {
   "cell_type": "code",
   "execution_count": 18,
   "metadata": {},
   "outputs": [],
   "source": [
    "total['variation'] = (-total.groupby('code')['now'].diff()).fillna(0)\n",
    "total['variation'] = total['variation']/total['now'] * 100"
   ]
  },
  {
   "cell_type": "code",
   "execution_count": 19,
   "metadata": {},
   "outputs": [],
   "source": [
    "dic= dict(list(total.groupby('code')))"
   ]
  },
  {
   "cell_type": "code",
   "execution_count": 1,
   "metadata": {},
   "outputs": [],
   "source": [
    "variation = np.array([])\n",
    "variation.shape = (0, 760)\n",
    "names2=[]\n",
    "for a in dic.keys():\n",
    "    try:\n",
    "        b = dic[a]\n",
    "#         print(len(b))\n",
    "        names2.append(Kospi200_codes[str(a)])\n",
    "        b = b.to_records(index=False, convert_datetime64=True)\n",
    "        b.sort()\n",
    "        tmp = np.array([b.variation])\n",
    "        variation = np.concatenate([variation, tmp])\n",
    "    except Exception:\n",
    "        pass\n",
    "names2 = np.array(names2)"
   ]
  },
  {
   "cell_type": "code",
   "execution_count": 21,
   "metadata": {},
   "outputs": [],
   "source": [
    "variation=variation.astype('float64')"
   ]
  },
  {
   "cell_type": "code",
   "execution_count": 22,
   "metadata": {},
   "outputs": [],
   "source": [
    "X = variation.copy()"
   ]
  },
  {
   "cell_type": "code",
   "execution_count": 23,
   "metadata": {},
   "outputs": [],
   "source": [
    "tuple_set_for_graphistry = []\n",
    "tuple_set_for_heatmap = []"
   ]
  },
  {
   "cell_type": "markdown",
   "metadata": {},
   "source": [
    "# Kmeans"
   ]
  },
  {
   "cell_type": "code",
   "execution_count": 24,
   "metadata": {},
   "outputs": [
    {
     "name": "stdout",
     "output_type": "stream",
     "text": [
      "1th clustering\n",
      "cluster 1: 우리은행, 두산, 한화, LG상사, 동국제강, 고려제강, 롯데푸드, LG, 세방전지, 효성, 빙그레, 크라운해태홀딩스, 삼성전자, SK케미칼, 대한유화, GS리테일, 국도화학, 서흥, 한미사이언스, 한화케미칼, 고려아연, 삼성중공업, 아이에스동서, 현대위아, 현대모비스, 한화테크윈, 현대산업, 한국전력, 삼성에스디에스, 한섬, 코웨이, 신도리코, 삼성생명, LG디스플레이, 두산인프라코어, 포스코대우, LG생활건강, 한전기술, S&T모티브, 현대백화점, 금호타이어, 현대리바트, 현대글로비스, 하나금융지주, SK이노베이션, CJ제일제당, 한국철강, 한미약품\n",
      "cluster 2: 기아차, 영풍, 현대건설, 세아베스틸, 넥센타이어, 태광산업, 농심, 롯데칠성, 현대그린푸드, 동부화재, 한올바이오파마, 롯데케미칼, SKC, 동원시스템즈, NAVER, 현대홈쇼핑, 에이블씨엔씨, 삼양사, 코스맥스\n",
      "cluster 3: 오리온, 세아제강, 쌍용양회, 대한항공, 메리츠종금증권, 현대미포조선, SK텔레콤, 한국단자, 한국항공우주, 동원F&B, 한전KPS, 한세실업, 한국타이어\n",
      "cluster 4: SPC삼립\n",
      "cluster 5: 쿠쿠전자\n",
      "cluster 6: 삼양홀딩스, 유한양행, 일동홀딩스, 동부하이텍, CJ, 동양, 대상, 알루코, 부광약품, 한일시멘트, 보령제약, 남양유업, 현대제철, POSCO, LS, 미래에셋대우, 벽산, 오뚜기, 대덕전자, 삼성전기, 한샘, S-Oil, 에스원, 한솔케미칼, 대교, 기업은행, 삼성물산, 삼성카드, SK, 강원랜드, 엔씨소프트, 대우건설, 신한지주, 한라홀딩스, 현대로템, GS, 한진중공업, 풍산, KB금융, LG하우시스, 영원무역, BNK금융지주, 이마트, 동아에스티, 종근당\n",
      "cluster 7: 경방, 하이트진로, CJ대한통운, 하이트진로홀딩스, 대림산업, 한국타이어월드와이드, SK하이닉스, 삼성화재, 현대해상, SK네트웍스, KCC, 제일약품, 한국쉘석유, 일신방직, S&T중공업, 쌍용차, 롯데정밀화학, 신세계, 조광피혁, 한솔테크닉스, 롯데제과, 삼광글라스, 현대차, 에스엘, NH투자증권, 녹십자, 삼성SDI, 일양약품, OCI, LS산전, LG이노텍, 금호석유, 유니드, 삼성증권, 현대엘리베이, 한온시스템, 롯데쇼핑, 남해화학, BGF리테일, 삼성엔지니어링, 제일기획, KT, LG유플러스, KT&G, 무학, 두산중공업, SBS, 한국가스공사, 팜스코, LG화학, LG전자, 대웅제약, 한국금융지주, 아모레퍼시픽, LF, 후성, GKL, 락앤락\n",
      "cluster 8: 동아쏘시오홀딩스, JW중외제약, 영진약품, 동아타이어, 호텔신라, 광동제약, 휴켐스, 코오롱인더, 한국콜마\n",
      "cluster 9: 아모레G, 한화생명\n",
      "cluster 10: 일진머티리얼즈\n",
      "2th clustering\n",
      "cluster 1: SK하이닉스, 동부하이텍, 에스엘, S-Oil, 현대엘리베이, 삼성엔지니어링, SBS, 강원랜드, 한국가스공사, 풍산\n",
      "cluster 2: 오리온, 세아제강, 쌍용양회, 대한항공, 메리츠종금증권, 한미사이언스, 현대미포조선, SK텔레콤, 대교, 일진머티리얼즈, 기업은행, 한국단자, 한국항공우주, 동원F&B, 한전KPS, 한세실업, 한국타이어, 종근당\n",
      "cluster 3: SPC삼립\n",
      "cluster 4: 쿠쿠전자\n",
      "cluster 5: 유한양행, 일동홀딩스, 동아쏘시오홀딩스, CJ, JW중외제약, 대상, 알루코, 부광약품, 영진약품, 보령제약, 현대제철, LS, 미래에셋대우, 동아타이어, 호텔신라, 삼성전기, 한샘, 광동제약, 포스코대우, S&T모티브, 휴켐스, 한진중공업, KB금융, LG하우시스, 영원무역, 코오롱인더, BNK금융지주, 한국콜마, 동아에스티\n",
      "cluster 6: 기아차, 롯데칠성, 동부화재, 롯데케미칼, SKC, 삼성에스디에스, 현대홈쇼핑, 현대리바트, 코스맥스\n",
      "cluster 7: 하이트진로, CJ대한통운, 하이트진로홀딩스, 현대건설, 세아베스틸, SK네트웍스, 일신방직, 쌍용차, 롯데정밀화학, 신세계, 농심, 현대그린푸드, POSCO, 삼성SDI, 일양약품, LS산전, 아이에스동서, LG이노텍, 동원시스템즈, 유니드, 삼성증권, BGF리테일, 제일기획, KT, NAVER, LG화학, 한국금융지주, 아모레퍼시픽, 후성, CJ제일제당, GKL, 삼양사\n",
      "cluster 8: 한화, 태광산업, LG, 남양유업, 삼성전자, SK케미칼, 대한유화, 서흥, 한올바이오파마, 한화케미칼, OCI, 한국전력, 현대백화점\n",
      "cluster 9: 우리은행, 경방, 삼양홀딩스, 두산, 대림산업, 한국타이어월드와이드, 영풍, 삼성화재, LG상사, 동국제강, 현대해상, 동양, 고려제강, 롯데푸드, 넥센타이어, KCC, 제일약품, 한국쉘석유, 한일시멘트, S&T중공업, 세방전지, 조광피혁, 한솔테크닉스, 효성, 롯데제과, 삼광글라스, 빙그레, 현대차, 크라운해태홀딩스, NH투자증권, 녹십자, GS리테일, 벽산, 오뚜기, 국도화학, 대덕전자, 고려아연, 삼성중공업, 현대위아, 금호석유, 현대모비스, 한화테크윈, 현대산업, 에스원, 한솔케미칼, 한온시스템, 한섬, 코웨이, 롯데쇼핑, 남해화학, 삼성물산, 신도리코, 삼성카드, LG유플러스, 삼성생명, KT&G, 무학, 두산중공업, LG디스플레이, SK, 엔씨소프트, 팜스코, 두산인프라코어, 대우건설, LG생활건강, 한전기술, 신한지주, 한라홀딩스, 현대로템, LG전자, 대웅제약, 금호타이어, 에이블씨엔씨, GS, 현대글로비스, 하나금융지주, LF, SK이노베이션, 한국철강, 락앤락, 한미약품, 이마트\n",
      "cluster 10: 아모레G, 한화생명\n",
      "3th clustering\n",
      "cluster 1: 아모레G, 메리츠종금증권, 한전KPS, 한화생명, 한국타이어\n",
      "cluster 2: 기아차, 조광피혁, 롯데칠성, 동부화재, S-Oil, 롯데케미칼, SKC, 현대홈쇼핑, 현대리바트, KB금융, 코스맥스\n",
      "cluster 3: 일진머티리얼즈\n",
      "cluster 4: SK하이닉스, 한화, CJ, LG, 에스엘, 삼성전자, 녹십자, 대한유화, 한화케미칼, 한국전력, 현대엘리베이, 삼성에스디에스, 한섬, 삼성엔지니어링, SBS, 한국가스공사, S&T모티브\n",
      "cluster 5: SPC삼립\n",
      "cluster 6: 우리은행, 두산, 동부하이텍, LG상사, 대상, 알루코, 오리온, 세아제강, 쌍용양회, 대한항공, 보령제약, 현대제철, 크라운해태홀딩스, SK케미칼, 서흥, 한미사이언스, 현대미포조선, 현대위아, 에스원, SK텔레콤, 대교, 기업은행, 한국단자, 신도리코, 삼성생명, LG디스플레이, 강원랜드, 엔씨소프트, 두산인프라코어, 한국항공우주, 동원F&B, SK이노베이션, 한국철강, 한세실업, 영원무역, BNK금융지주, 종근당\n",
      "cluster 7: 경방, 삼양홀딩스, 유한양행, 일동홀딩스, 한국타이어월드와이드, 동국제강, 현대해상, 동양, 고려제강, 롯데푸드, 넥센타이어, 한국쉘석유, 부광약품, 태광산업, 한일시멘트, S&T중공업, 남양유업, 신세계, 농심, 세방전지, 롯데제과, 삼광글라스, POSCO, LS, 미래에셋대우, 벽산, 오뚜기, 국도화학, 대덕전자, 삼성전기, 한샘, 광동제약, OCI, 고려아연, 삼성중공업, 한화테크윈, 현대산업, 한솔케미칼, 동원시스템즈, 한온시스템, 삼성물산, 삼성카드, KT&G, SK, 대우건설, 포스코대우, 신한지주, 한라홀딩스, 현대로템, LG전자, 현대백화점, GS, 하나금융지주, 한진중공업, 풍산, LG하우시스, 한미약품, 이마트, 동아에스티\n",
      "cluster 8: 동아쏘시오홀딩스, JW중외제약, 영진약품, 동아타이어, 호텔신라, 휴켐스, 코오롱인더, 한국콜마, 쿠쿠전자\n",
      "cluster 9: 삼양사\n",
      "cluster 10: 하이트진로, CJ대한통운, 하이트진로홀딩스, 대림산업, 영풍, 현대건설, 삼성화재, 세아베스틸, SK네트웍스, KCC, 제일약품, 일신방직, 쌍용차, 롯데정밀화학, 한솔테크닉스, 효성, 빙그레, 현대차, 현대그린푸드, NH투자증권, 삼성SDI, GS리테일, 일양약품, 한올바이오파마, LS산전, 아이에스동서, LG이노텍, 금호석유, 현대모비스, 유니드, 삼성증권, 코웨이, 롯데쇼핑, 남해화학, BGF리테일, 제일기획, KT, LG유플러스, 무학, 두산중공업, NAVER, 팜스코, LG생활건강, LG화학, 한전기술, 대웅제약, 한국금융지주, 금호타이어, 에이블씨엔씨, 현대글로비스, 아모레퍼시픽, LF, 후성, CJ제일제당, GKL, 락앤락\n",
      "4th clustering\n",
      "cluster 1: 두산, LG상사, 동국제강, 한일시멘트, 크라운해태홀딩스, SK케미칼, 한미사이언스, 현대위아, 한화테크윈, 현대산업, LG디스플레이, 한전기술, 현대백화점, 한국철강, 종근당\n",
      "cluster 2: 동아쏘시오홀딩스, JW중외제약, 영진약품, 동아타이어, 호텔신라, 광동제약, 휴켐스, 코오롱인더, 한국콜마, 동아에스티\n",
      "cluster 3: 경방, 삼양홀딩스, 하이트진로, CJ대한통운, 대림산업, 한국타이어월드와이드, 기아차, 영풍, 현대건설, 삼성화재, 세아베스틸, 현대해상, 동양, SK네트웍스, 고려제강, 넥센타이어, 일신방직, 태광산업, 쌍용차, 롯데정밀화학, 신세계, 농심, 삼광글라스, 롯데칠성, 현대그린푸드, POSCO, 동부화재, 삼성SDI, 오뚜기, 일양약품, 대덕전자, 한올바이오파마, OCI, LS산전, 삼성중공업, 아이에스동서, LG이노텍, 롯데케미칼, 금호석유, 현대모비스, 한솔케미칼, 동원시스템즈, 삼성증권, 한온시스템, 남해화학, BGF리테일, 제일기획, KT&G, SK, NAVER, 포스코대우, LG화학, 현대홈쇼핑, 현대로템, LG전자, 한국금융지주, 에이블씨엔씨, 아모레퍼시픽, 후성, CJ제일제당, LG하우시스, GKL, 삼양사, 코스맥스\n",
      "cluster 4: 쿠쿠전자\n",
      "cluster 5: SPC삼립\n",
      "cluster 6: 우리은행, 유한양행, 하이트진로홀딩스, 일동홀딩스, SK하이닉스, 동부하이텍, 대상, 알루코, 롯데푸드, KCC, 제일약품, 한국쉘석유, 부광약품, S&T중공업, 남양유업, 현대제철, 세방전지, 조광피혁, 한솔테크닉스, 롯데제과, 빙그레, 현대차, 에스엘, NH투자증권, LS, 녹십자, 미래에셋대우, GS리테일, 벽산, 국도화학, 삼성전기, 한샘, 고려아연, S-Oil, 에스원, 유니드, 현대엘리베이, 대교, 코웨이, 롯데쇼핑, 삼성엔지니어링, 삼성물산, 신도리코, 삼성카드, LG유플러스, 삼성생명, 무학, 두산중공업, SBS, 강원랜드, 엔씨소프트, 팜스코, 두산인프라코어, 대우건설, LG생활건강, 신한지주, 한라홀딩스, 대웅제약, 금호타이어, GS, 현대리바트, 현대글로비스, 하나금융지주, LF, SK이노베이션, 한진중공업, 풍산, KB금융, 한세실업, 영원무역, 락앤락, 한미약품, BNK금융지주, 이마트\n",
      "cluster 7: 오리온, 세아제강, 쌍용양회, 대한항공, 보령제약, 현대미포조선, SK텔레콤, 기업은행, 한국단자, 한국항공우주, 동원F&B\n",
      "cluster 8: 일진머티리얼즈\n",
      "cluster 9: 아모레G, 메리츠종금증권, 한전KPS, 한화생명, 한국타이어\n",
      "cluster 10: 한화, CJ, LG, 효성, 삼성전자, 대한유화, 서흥, 한화케미칼, SKC, 한국전력, 삼성에스디에스, 한섬, KT, 한국가스공사, S&T모티브\n",
      "5th clustering\n",
      "cluster 1: 우리은행, 두산, SK하이닉스, 한화, 동국제강, 대상, LG, 세방전지, 효성, 크라운해태홀딩스, 에스엘, 삼성전자, NH투자증권, SK케미칼, 녹십자, 대한유화, 서흥, 한미사이언스, 한화케미칼, 고려아연, 삼성중공업, 현대위아, 한화테크윈, 한국전력, 롯데쇼핑, 신도리코, LG유플러스, 삼성생명, SBS, LG디스플레이, 강원랜드, 한국가스공사, 두산인프라코어, LG생활건강, 한전기술, 한라홀딩스, S&T모티브, 현대백화점, 금호타이어, 현대리바트, 현대글로비스, 하나금융지주, SK이노베이션, 한국철강, 한미약품, BNK금융지주\n",
      "cluster 2: 경방, 삼양홀딩스, 하이트진로, CJ대한통운, 하이트진로홀딩스, 대림산업, 일동홀딩스, 한국타이어월드와이드, 기아차, 영풍, 현대건설, 삼성화재, CJ, LG상사, 세아베스틸, 현대해상, 동양, SK네트웍스, 알루코, 고려제강, 롯데푸드, 넥센타이어, KCC, 제일약품, 한국쉘석유, 일신방직, 한일시멘트, S&T중공업, 쌍용차, 남양유업, 롯데정밀화학, 신세계, 농심, 조광피혁, 한솔테크닉스, 롯데제과, 삼광글라스, 빙그레, 롯데칠성, 현대차, 현대그린푸드, POSCO, 동부화재, LS, 삼성SDI, 미래에셋대우, GS리테일, 벽산, 오뚜기, 일양약품, 국도화학, 대덕전자, 삼성전기, 한샘, 한올바이오파마, OCI, LS산전, 아이에스동서, LG이노텍, 롯데케미칼, 금호석유, SKC, 현대모비스, 현대산업, 에스원, 한솔케미칼, 동원시스템즈, 유니드, 삼성증권, 삼성에스디에스, 한온시스템, 한섬, 코웨이, 남해화학, 삼성물산, 삼성카드, 제일기획, KT, KT&G, 무학, 두산중공업, SK, NAVER, 엔씨소프트, 팜스코, 대우건설, 포스코대우, LG화학, 신한지주, 현대홈쇼핑, 현대로템, LG전자, 대웅제약, 한국금융지주, 에이블씨엔씨, GS, 아모레퍼시픽, LF, 후성, 한진중공업, CJ제일제당, 풍산, KB금융, LG하우시스, GKL, 락앤락, 이마트, 삼양사, 코스맥스\n",
      "cluster 3: S-Oil, 현대엘리베이, BGF리테일, 삼성엔지니어링\n",
      "cluster 4: 일진머티리얼즈\n",
      "cluster 5: 쿠쿠전자\n",
      "cluster 6: 동부하이텍, 오리온, 세아제강, 쌍용양회, 대한항공, 보령제약, 현대제철, 메리츠종금증권, 현대미포조선, SK텔레콤, 대교, 기업은행, 한국단자, 한국항공우주, 동원F&B, 한전KPS, 한세실업, 영원무역, 한국타이어, 종근당\n",
      "cluster 7: 유한양행, 동아쏘시오홀딩스, JW중외제약, 부광약품, 영진약품, 동아타이어, 호텔신라, 광동제약, 휴켐스, 코오롱인더, 한국콜마, 동아에스티\n",
      "cluster 8: SPC삼립\n",
      "cluster 9: 아모레G, 한화생명\n",
      "cluster 10: 태광산업\n",
      "6th clustering\n",
      "cluster 1: 기아차, 롯데칠성, 동부화재, 롯데케미칼, SKC, 현대리바트, 코스맥스\n",
      "cluster 2: 우리은행, 경방, 삼양홀딩스, 하이트진로, CJ대한통운, 하이트진로홀딩스, 대림산업, 한국타이어월드와이드, SK하이닉스, 영풍, 현대건설, 삼성화재, 한화, LG상사, 동국제강, 세아베스틸, 현대해상, 동양, 고려제강, KCC, 일신방직, 태광산업, 한일시멘트, 쌍용차, 롯데정밀화학, 신세계, 농심, 세방전지, 한솔테크닉스, 효성, 롯데제과, 삼광글라스, 빙그레, 현대그린푸드, 삼성전자, SK케미칼, 삼성SDI, 대한유화, GS리테일, 일양약품, 대덕전자, 한올바이오파마, 한화케미칼, OCI, LS산전, 고려아연, 삼성중공업, 아이에스동서, LG이노텍, 현대위아, 금호석유, 현대모비스, 한화테크윈, 현대산업, 동원시스템즈, 한국전력, 삼성증권, 삼성에스디에스, 코웨이, 롯데쇼핑, 남해화학, 제일기획, KT, LG유플러스, 삼성생명, KT&G, 무학, LG디스플레이, NAVER, 팜스코, LG생활건강, 한전기술, 현대로템, LG전자, 현대백화점, 금호타이어, 에이블씨엔씨, 현대글로비스, 하나금융지주, 아모레퍼시픽, 후성, CJ제일제당, 한국철강, GKL, 락앤락, 한미약품, 이마트, 삼양사\n",
      "cluster 3: SPC삼립\n",
      "cluster 4: 동부하이텍, 오리온, 세아제강, 쌍용양회, 대한항공, 현대제철, 서흥, 한미사이언스, 현대미포조선, SK텔레콤, 대교, 기업은행, 한국단자, 강원랜드, 한국항공우주, 동원F&B, 한세실업, 영원무역, 한국콜마, 종근당\n",
      "cluster 5: 호텔신라, 코오롱인더\n",
      "cluster 6: S-Oil, 현대엘리베이, BGF리테일, 삼성엔지니어링\n",
      "cluster 7: 아모레G, 메리츠종금증권, 한전KPS, 한화생명\n",
      "cluster 8: 한국타이어, 쿠쿠전자\n",
      "cluster 9: 유한양행, 두산, 일동홀딩스, 동아쏘시오홀딩스, CJ, JW중외제약, 대상, SK네트웍스, 알루코, 롯데푸드, 넥센타이어, 제일약품, 한국쉘석유, 부광약품, 영진약품, LG, S&T중공업, 보령제약, 남양유업, 조광피혁, 현대차, POSCO, 크라운해태홀딩스, 에스엘, NH투자증권, LS, 녹십자, 미래에셋대우, 벽산, 오뚜기, 동아타이어, 국도화학, 삼성전기, 한샘, 광동제약, 에스원, 한솔케미칼, 유니드, 한온시스템, 한섬, 삼성물산, 신도리코, 삼성카드, 두산중공업, SBS, SK, 한국가스공사, 엔씨소프트, 두산인프라코어, 대우건설, 포스코대우, LG화학, 신한지주, 현대홈쇼핑, 한라홀딩스, S&T모티브, 휴켐스, 대웅제약, 한국금융지주, GS, LF, SK이노베이션, 한진중공업, 풍산, KB금융, LG하우시스, BNK금융지주, 동아에스티\n",
      "cluster 10: 일진머티리얼즈\n"
     ]
    },
    {
     "name": "stdout",
     "output_type": "stream",
     "text": [
      "7th clustering\n",
      "cluster 1: 경방, 하이트진로, CJ대한통운, 하이트진로홀딩스, 대림산업, 영풍, 현대건설, 세아베스틸, SK네트웍스, KCC, 일신방직, 쌍용차, 롯데정밀화학, 신세계, 조광피혁, 현대그린푸드, 동부화재, 삼성SDI, 일양약품, 대덕전자, 한올바이오파마, LS산전, LG이노텍, SKC, 유니드, 삼성증권, 한온시스템, BGF리테일, 제일기획, KT, NAVER, LG화학, 한국금융지주, 아모레퍼시픽, 후성, CJ제일제당, GKL, 삼양사, 코스맥스\n",
      "cluster 2: 유한양행, 동아쏘시오홀딩스, CJ, JW중외제약, 대상, 부광약품, 영진약품, LS, 동아타이어, 호텔신라, 삼성전기, 광동제약, 휴켐스, 코오롱인더, BNK금융지주, 한국콜마, 동아에스티\n",
      "cluster 3: 남양유업, POSCO, OCI\n",
      "cluster 4: SK하이닉스, 제일약품, 효성, 에스엘, 녹십자, 한미사이언스, S-Oil, 현대엘리베이, 코웨이, 삼성엔지니어링, LG유플러스, SBS, 강원랜드, 한라홀딩스, 대웅제약, 금호타이어, 풍산\n",
      "cluster 5: 한국가스공사\n",
      "cluster 6: 우리은행, 삼양홀딩스, 두산, 일동홀딩스, 한국타이어월드와이드, 기아차, 삼성화재, 한화, LG상사, 동국제강, 현대해상, 동양, 알루코, 고려제강, 롯데푸드, 넥센타이어, 한국쉘석유, 태광산업, 한일시멘트, LG, S&T중공업, 농심, 세방전지, 한솔테크닉스, 롯데제과, 삼광글라스, 빙그레, 롯데칠성, 현대차, 크라운해태홀딩스, 삼성전자, NH투자증권, SK케미칼, 대한유화, 미래에셋대우, GS리테일, 벽산, 오뚜기, 국도화학, 서흥, 한샘, 한화케미칼, 고려아연, 삼성중공업, 아이에스동서, 롯데케미칼, 현대위아, 금호석유, 현대모비스, 한화테크윈, 현대산업, 에스원, 한솔케미칼, 동원시스템즈, 한국전력, 삼성에스디에스, 한섬, 롯데쇼핑, 남해화학, 삼성물산, 신도리코, 삼성카드, 삼성생명, KT&G, 무학, 두산중공업, LG디스플레이, SK, 엔씨소프트, 팜스코, 두산인프라코어, 대우건설, 포스코대우, LG생활건강, 한전기술, 신한지주, 현대홈쇼핑, 현대로템, S&T모티브, LG전자, 현대백화점, 에이블씨엔씨, GS, 현대리바트, 현대글로비스, 하나금융지주, LF, SK이노베이션, 한진중공업, 한국철강, KB금융, LG하우시스, 락앤락, 한미약품, 이마트\n",
      "cluster 7: 대한항공, 일진머티리얼즈\n",
      "cluster 8: 아모레G, 메리츠종금증권, 한전KPS, 한화생명, 한국타이어, 쿠쿠전자\n",
      "cluster 9: SPC삼립\n",
      "cluster 10: 동부하이텍, 오리온, 세아제강, 쌍용양회, 보령제약, 현대제철, 현대미포조선, SK텔레콤, 대교, 기업은행, 한국단자, 한국항공우주, 동원F&B, 한세실업, 영원무역, 종근당\n",
      "8th clustering\n",
      "cluster 1: S-Oil, 현대엘리베이, 삼성엔지니어링\n",
      "cluster 2: 경방, 삼양홀딩스, 하이트진로, CJ대한통운, 하이트진로홀딩스, 대림산업, 일동홀딩스, 한국타이어월드와이드, 영풍, 삼성화재, 세아베스틸, 현대해상, SK네트웍스, 고려제강, 롯데푸드, 넥센타이어, KCC, 제일약품, 한국쉘석유, 태광산업, S&T중공업, 쌍용차, 신세계, 농심, 조광피혁, 롯데제과, 삼광글라스, 빙그레, 현대차, POSCO, LS, 삼성SDI, 미래에셋대우, GS리테일, 벽산, 오뚜기, 일양약품, 대덕전자, 삼성전기, 한샘, OCI, LS산전, 아이에스동서, 금호석유, 현대모비스, 현대산업, 한솔케미칼, 동원시스템즈, 유니드, 삼성증권, 한온시스템, 코웨이, 남해화학, 삼성물산, 삼성카드, 제일기획, KT, KT&G, 두산중공업, SK, NAVER, 엔씨소프트, 대우건설, 포스코대우, LG화학, 신한지주, 현대홈쇼핑, 현대로템, LG전자, 한국금융지주, 에이블씨엔씨, GS, 아모레퍼시픽, LF, 후성, 한진중공업, 풍산, KB금융, LG하우시스, GKL, 락앤락, 이마트\n",
      "cluster 3: 동부하이텍, 알루코, 오리온, 세아제강, 한일시멘트, 쌍용양회, 보령제약, 현대제철, 현대미포조선, SK텔레콤, 대교, 기업은행, 한국단자, 한국항공우주, 동원F&B, 한세실업, 영원무역, 종근당\n",
      "cluster 4: SPC삼립\n",
      "cluster 5: 아모레G, 대한항공, 메리츠종금증권, 일진머티리얼즈, 한전KPS, 한화생명, 한국타이어\n",
      "cluster 6: 쿠쿠전자\n",
      "cluster 7: 유한양행, 동아쏘시오홀딩스, CJ, JW중외제약, 부광약품, 영진약품, 동아타이어, 호텔신라, 광동제약, 휴켐스, 코오롱인더, 한국콜마, 동아에스티\n",
      "cluster 8: 기아차, 현대건설, 동양, 롯데칠성, 현대그린푸드, 동부화재, 한올바이오파마, LG이노텍, 롯데케미칼, SKC, BGF리테일, 삼양사, 코스맥스\n",
      "cluster 9: 일신방직\n",
      "cluster 10: 우리은행, 두산, SK하이닉스, 한화, LG상사, 동국제강, 대상, LG, 남양유업, 롯데정밀화학, 세방전지, 한솔테크닉스, 효성, 크라운해태홀딩스, 에스엘, 삼성전자, NH투자증권, SK케미칼, 녹십자, 대한유화, 국도화학, 서흥, 한미사이언스, 한화케미칼, 고려아연, 삼성중공업, 현대위아, 한화테크윈, 에스원, 한국전력, 삼성에스디에스, 한섬, 롯데쇼핑, 신도리코, LG유플러스, 삼성생명, 무학, SBS, LG디스플레이, 강원랜드, 한국가스공사, 팜스코, 두산인프라코어, LG생활건강, 한전기술, 한라홀딩스, S&T모티브, 대웅제약, 현대백화점, 금호타이어, 현대리바트, 현대글로비스, 하나금융지주, SK이노베이션, CJ제일제당, 한국철강, 한미약품, BNK금융지주\n",
      "9th clustering\n",
      "cluster 1: LG전자\n",
      "cluster 2: 세아제강, BNK금융지주\n",
      "cluster 3: 경방, 하이트진로, CJ대한통운, 하이트진로홀딩스, 대림산업, 영풍, 현대건설, 세아베스틸, SK네트웍스, 넥센타이어, 일신방직, 태광산업, 쌍용차, 롯데정밀화학, 신세계, 농심, 조광피혁, 롯데칠성, 현대차, 현대그린푸드, POSCO, 동부화재, 삼성SDI, 일양약품, 한올바이오파마, OCI, LS산전, LG이노텍, 롯데케미칼, SKC, 한솔케미칼, 유니드, 삼성증권, 한온시스템, BGF리테일, 제일기획, KT, NAVER, LG화학, 현대홈쇼핑, 대웅제약, 한국금융지주, 아모레퍼시픽, LF, 후성, GKL, 락앤락, 삼양사, 코스맥스\n",
      "cluster 4: SPC삼립\n",
      "cluster 5: 유한양행, 동아쏘시오홀딩스, 동부하이텍, CJ, JW중외제약, 대상, 알루코, 오리온, 부광약품, 쌍용양회, 보령제약, 현대제철, LS, 동아타이어, 서흥, 호텔신라, 한미사이언스, 삼성전기, 광동제약, 현대미포조선, 에스원, SK텔레콤, 대교, 기업은행, 한국단자, 강원랜드, 엔씨소프트, 두산인프라코어, 한국항공우주, 동원F&B, 휴켐스, SK이노베이션, 한세실업, 영원무역, 코오롱인더, 한국콜마, 동아에스티, 종근당\n",
      "cluster 6: 아모레G, 대한항공, 메리츠종금증권, 일진머티리얼즈, 한전KPS, 한화생명, 한국타이어\n",
      "cluster 7: 우리은행, 삼양홀딩스, 두산, 일동홀딩스, 한국타이어월드와이드, 기아차, SK하이닉스, 삼성화재, 한화, LG상사, 동국제강, 현대해상, 동양, 고려제강, 롯데푸드, KCC, 제일약품, 한국쉘석유, 한일시멘트, LG, S&T중공업, 남양유업, 세방전지, 한솔테크닉스, 롯데제과, 삼광글라스, 빙그레, 크라운해태홀딩스, 삼성전자, NH투자증권, SK케미칼, 대한유화, 미래에셋대우, GS리테일, 벽산, 오뚜기, 국도화학, 대덕전자, 한샘, 한화케미칼, 고려아연, 삼성중공업, 아이에스동서, 현대위아, 금호석유, 현대모비스, 한화테크윈, 현대산업, 동원시스템즈, 한국전력, 삼성에스디에스, 롯데쇼핑, 남해화학, 삼성물산, 신도리코, 삼성카드, LG유플러스, 삼성생명, KT&G, 무학, 두산중공업, LG디스플레이, SK, 팜스코, 대우건설, 포스코대우, LG생활건강, 한전기술, 신한지주, 한라홀딩스, 현대로템, S&T모티브, 현대백화점, 금호타이어, 에이블씨엔씨, GS, 현대리바트, 현대글로비스, 하나금융지주, 한진중공업, CJ제일제당, 풍산, 한국철강, KB금융, LG하우시스, 한미약품, 이마트\n",
      "cluster 8: 효성, 코웨이\n",
      "cluster 9: 쿠쿠전자\n",
      "cluster 10: 영진약품, 에스엘, 녹십자, S-Oil, 현대엘리베이, 한섬, 삼성엔지니어링, SBS, 한국가스공사\n",
      "10th clustering\n",
      "cluster 1: 엔씨소프트\n",
      "cluster 2: 우리은행, 하이트진로, CJ대한통운, 대림산업, 영풍, 현대건설, 삼성화재, 한화, 세아베스틸, 현대해상, KCC, 일신방직, LG, 신세계, 한솔테크닉스, 효성, 빙그레, 현대그린푸드, 삼성전자, 삼성SDI, 대한유화, GS리테일, 일양약품, 한올바이오파마, LS산전, 고려아연, 삼성중공업, 아이에스동서, LG이노텍, 금호석유, 현대모비스, 한국전력, 삼성증권, 삼성에스디에스, 코웨이, 롯데쇼핑, 남해화학, BGF리테일, KT, LG유플러스, 무학, LG디스플레이, NAVER, 팜스코, LG생활건강, 한전기술, S&T모티브, LG전자, 현대백화점, 금호타이어, 현대글로비스, 후성, SK이노베이션, CJ제일제당, 한국철강, GKL, 한미약품, 삼양사\n",
      "cluster 3: 경방, 하이트진로홀딩스, 한국타이어월드와이드, 기아차, SK하이닉스, LG상사, 동양, 알루코, 고려제강, 한국쉘석유, 태광산업, S&T중공업, 롯데정밀화학, 농심, 세방전지, 조광피혁, 롯데제과, 에스엘, NH투자증권, SK케미칼, 국도화학, 한화케미칼, OCI, 한솔케미칼, 한섬, 삼성카드, 한국가스공사, 두산인프라코어, 대우건설, 대웅제약, 에이블씨엔씨, 하나금융지주\n",
      "cluster 4: 롯데칠성, 동부화재, 롯데케미칼, SKC, 삼성엔지니어링, 코스맥스\n",
      "cluster 5: 두산, 동부하이텍, 동국제강, 대상, 오리온, 세아제강, 쌍용양회, 대한항공, 현대제철, 녹십자, 서흥, 한미사이언스, 현대미포조선, S-Oil, 현대위아, 한화테크윈, SK텔레콤, 현대엘리베이, 대교, 기업은행, 한국단자, 삼성생명, SBS, 강원랜드, 한국항공우주, 동원F&B, 한라홀딩스, 현대리바트, 한세실업, 영원무역, BNK금융지주, 한국콜마, 종근당\n",
      "cluster 6: 삼양홀딩스, 유한양행, 일동홀딩스, 동아쏘시오홀딩스, CJ, JW중외제약, SK네트웍스, 롯데푸드, 넥센타이어, 제일약품, 부광약품, 한일시멘트, 영진약품, 쌍용차, 보령제약, 남양유업, 삼광글라스, 현대차, POSCO, 크라운해태홀딩스, LS, 미래에셋대우, 벽산, 오뚜기, 동아타이어, 대덕전자, 호텔신라, 삼성전기, 한샘, 광동제약, 현대산업, 에스원, 동원시스템즈, 유니드, 한온시스템, 삼성물산, 신도리코, 제일기획, KT&G, 두산중공업, SK, 포스코대우, LG화학, 신한지주, 현대홈쇼핑, 현대로템, 휴켐스, 한국금융지주, GS, 아모레퍼시픽, LF, 한진중공업, 풍산, KB금융, LG하우시스, 락앤락, 코오롱인더, 이마트, 동아에스티\n",
      "cluster 7: SPC삼립\n",
      "cluster 8: 일진머티리얼즈\n",
      "cluster 9: 아모레G, 메리츠종금증권, 한전KPS, 한화생명, 한국타이어\n",
      "cluster 10: 쿠쿠전자\n"
     ]
    }
   ],
   "source": [
    "for j in range(0,10):\n",
    "    kmeans = KMeans(n_clusters=10)\n",
    "    kmeans.fit(X)\n",
    "    labels=kmeans.labels_\n",
    "    n_labels=labels.max()\n",
    "    print('%sth clustering'%(j+1))\n",
    "    for i in range(n_labels + 1):\n",
    "        tmp = []\n",
    "        for ix, label in enumerate(labels):\n",
    "            if label == i:\n",
    "                tmp.append(ix)\n",
    "        tmp2 = []\n",
    "        for ix in tmp:\n",
    "            tmp2.append(names2[ix])\n",
    "        print('cluster {}: {}'.format(i + 1, ', '.join(tmp2)))\n",
    "        \n",
    "        # for graphistry\n",
    "        for pair in itertools.combinations(tmp2, 2):\n",
    "            for_rev=pair\n",
    "        \n",
    "            tmp_list = list(pair)\n",
    "            tmp_list.insert(3, 1)\n",
    "            pair = tuple(tmp_list)\n",
    "            tuple_set_for_graphistry.append(pair)\n",
    "        \n",
    "            rev_pair = reversed(for_rev)\n",
    "            tmp_list = list(rev_pair)\n",
    "            tmp_list.insert(3, 1)\n",
    "            rev_pair = tuple(tmp_list)\n",
    "            tuple_set_for_graphistry.append(tuple(rev_pair))\n",
    "        \n",
    "        # for heatmap\n",
    "        for pair in itertools.combinations(tmp2, 2):\n",
    "            tmp_list = list(pair)\n",
    "            tmp_list.insert(3, 1)\n",
    "            pair = tuple(tmp_list)\n",
    "            tuple_set_for_heatmap.append(pair)"
   ]
  },
  {
   "cell_type": "markdown",
   "metadata": {},
   "source": [
    "# visualizing Kmeans by Graphistry"
   ]
  },
  {
   "cell_type": "code",
   "execution_count": 25,
   "metadata": {},
   "outputs": [],
   "source": [
    "df_combi=pd.DataFrame(tuple_set_for_graphistry, columns=['source', 'target', 'value'])"
   ]
  },
  {
   "cell_type": "code",
   "execution_count": 26,
   "metadata": {},
   "outputs": [],
   "source": [
    "df_combi2=pd.DataFrame(tuple_set_for_heatmap, columns=['source', 'target', 'value'])"
   ]
  },
  {
   "cell_type": "code",
   "execution_count": 27,
   "metadata": {},
   "outputs": [],
   "source": [
    "graphistry_df=df_combi.groupby(['source', 'target'], as_index=None).sum()"
   ]
  },
  {
   "cell_type": "code",
   "execution_count": 28,
   "metadata": {},
   "outputs": [],
   "source": [
    "plotter = graphistry.bind(source='source', destination='target')"
   ]
  },
  {
   "cell_type": "code",
   "execution_count": 29,
   "metadata": {
    "scrolled": true
   },
   "outputs": [
    {
     "data": {
      "text/html": [
       "\n",
       "            <iframe id=\"a5272f87-ce20-496d-964d-d42158b95ff2\" src=\"https://labs.graphistry.com/graph/graph.html?dataset=PyGraphistry/B4GU1GS31P&type=vgraph&viztoken=208191fdd069b3ed68a815df765d2fd9d6c28343&usertag=fe82b528-pygraphistry-0.10.4&splashAfter=1583581048&info=true\"\n",
       "                    allowfullscreen=\"true\" webkitallowfullscreen=\"true\" mozallowfullscreen=\"true\"\n",
       "                    oallowfullscreen=\"true\" msallowfullscreen=\"true\"\n",
       "                    style=\"width:100%; height:500px; border: 1px solid #DDD\">\n",
       "            </iframe>\n",
       "        \n",
       "            <script>\n",
       "                $(\"#a5272f87-ce20-496d-964d-d42158b95ff2\").bind('mousewheel', function(e) {\n",
       "                e.preventDefault();\n",
       "                });\n",
       "            </script>\n",
       "        "
      ],
      "text/plain": [
       "<IPython.core.display.HTML object>"
      ]
     },
     "execution_count": 29,
     "metadata": {},
     "output_type": "execute_result"
    }
   ],
   "source": [
    "plotter.plot(graphistry_df)"
   ]
  },
  {
   "cell_type": "markdown",
   "metadata": {},
   "source": [
    "# Heatmap"
   ]
  },
  {
   "cell_type": "code",
   "execution_count": 30,
   "metadata": {},
   "outputs": [],
   "source": [
    "heatmap_df=df_combi2.groupby(['source', 'target'], as_index=None).sum()"
   ]
  },
  {
   "cell_type": "code",
   "execution_count": 31,
   "metadata": {},
   "outputs": [],
   "source": [
    "heatmap_df=heatmap_df.pivot(index='source', columns='target', values='value').fillna(0)"
   ]
  },
  {
   "cell_type": "code",
   "execution_count": 32,
   "metadata": {},
   "outputs": [],
   "source": [
    "heatmap_df=heatmap_df.astype(int)"
   ]
  },
  {
   "cell_type": "code",
   "execution_count": 33,
   "metadata": {},
   "outputs": [],
   "source": [
    "gg=DataFrame(heatmap_df['부광약품']).astype(int)"
   ]
  },
  {
   "cell_type": "code",
   "execution_count": 34,
   "metadata": {},
   "outputs": [],
   "source": [
    "gg=gg.sort_values(['부광약품'],ascending=True)"
   ]
  },
  {
   "cell_type": "code",
   "execution_count": 35,
   "metadata": {},
   "outputs": [],
   "source": [
    "gg=gg[gg['부광약품']>0]"
   ]
  },
  {
   "cell_type": "code",
   "execution_count": 37,
   "metadata": {},
   "outputs": [],
   "source": [
    "data = [go.Heatmap(z=gg.values.tolist(), colorscale='turbid', x=gg.columns, y=gg.index)]"
   ]
  },
  {
   "cell_type": "code",
   "execution_count": 38,
   "metadata": {},
   "outputs": [
    {
     "name": "stderr",
     "output_type": "stream",
     "text": [
      "C:\\Users\\KyeoRae\\Anaconda3\\lib\\site-packages\\plotly\\offline\\offline.py:563: UserWarning:\n",
      "\n",
      "Your filename `pandas-heatmap` didn't end with .html. Adding .html to the end of your file.\n",
      "\n"
     ]
    },
    {
     "data": {
      "text/plain": [
       "'pandas-heatmap.html'"
      ]
     },
     "execution_count": 38,
     "metadata": {},
     "output_type": "execute_result"
    }
   ],
   "source": [
    "py.offline.plot(data, filename='pandas-heatmap')"
   ]
  },
  {
   "cell_type": "code",
   "execution_count": null,
   "metadata": {
    "collapsed": true
   },
   "outputs": [],
   "source": []
  }
 ],
 "metadata": {
  "kernelspec": {
   "display_name": "Python 3",
   "language": "python",
   "name": "python3"
  },
  "language_info": {
   "codemirror_mode": {
    "name": "ipython",
    "version": 3
   },
   "file_extension": ".py",
   "mimetype": "text/x-python",
   "name": "python",
   "nbconvert_exporter": "python",
   "pygments_lexer": "ipython3",
   "version": "3.7.4"
  }
 },
 "nbformat": 4,
 "nbformat_minor": 2
}
